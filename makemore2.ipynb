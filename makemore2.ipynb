{
 "cells": [
  {
   "cell_type": "code",
   "execution_count": null,
   "metadata": {},
   "outputs": [],
   "source": [
    "words = open('names.txt', 'r').read().splitlines()"
   ]
  },
  {
   "cell_type": "code",
   "execution_count": 14,
   "metadata": {},
   "outputs": [],
   "source": [
    "import torch\n",
    "import matplotlib.pyplot as plt\n",
    "%matplotlib inline"
   ]
  },
  {
   "cell_type": "code",
   "execution_count": 5,
   "metadata": {},
   "outputs": [],
   "source": [
    "chars = sorted(list(set(''.join(words))))\n",
    "stoi = {s:i+1 for i,s in enumerate(chars)}\n",
    "stoi['.'] = 0\n",
    "itos = {i:s for s,i in stoi.items()}"
   ]
  },
  {
   "cell_type": "code",
   "execution_count": 4,
   "metadata": {},
   "outputs": [],
   "source": [
    "N = torch.zeros((27, 27), dtype=torch.int32)"
   ]
  },
  {
   "cell_type": "code",
   "execution_count": null,
   "metadata": {},
   "outputs": [],
   "source": [
    "# create the training set of biagrams (x, y)\n",
    "xs , ys = [], []\n",
    "\n",
    "for w in words[:1]:\n",
    "    chs = ['.'] + list(w) + ['.']\n",
    "    for ch1, ch2 in zip(chs, chs[1:]):\n",
    "        ix1 = stoi[ch1]\n",
    "        ix2 = stoi[ch2]\n",
    "        xs.append(ix1)\n",
    "        ys.append(ix2)\n",
    "        # N[ix1, ix2] += 1\n",
    "\n",
    "\n",
    "xs = torch.tensor(xs)\n",
    "ys = torch.tensor(ys)"
   ]
  },
  {
   "cell_type": "code",
   "execution_count": 9,
   "metadata": {},
   "outputs": [
    {
     "data": {
      "text/plain": [
       "tensor([ 0,  5, 13, 13,  1])"
      ]
     },
     "execution_count": 9,
     "metadata": {},
     "output_type": "execute_result"
    }
   ],
   "source": [
    "xs"
   ]
  },
  {
   "cell_type": "code",
   "execution_count": 10,
   "metadata": {},
   "outputs": [
    {
     "data": {
      "text/plain": [
       "tensor([ 5, 13, 13,  1,  0])"
      ]
     },
     "execution_count": 10,
     "metadata": {},
     "output_type": "execute_result"
    }
   ],
   "source": [
    "ys"
   ]
  },
  {
   "cell_type": "code",
   "execution_count": 34,
   "metadata": {},
   "outputs": [],
   "source": [
    "import torch.nn.functional as F \n",
    "xenc = F.one_hot(xs, num_classes=27).float()\n",
    "yenc = F.one_hot(ys, num_classes=27).float()"
   ]
  },
  {
   "cell_type": "code",
   "execution_count": 16,
   "metadata": {},
   "outputs": [
    {
     "data": {
      "text/plain": [
       "tensor([[1, 0, 0, 0, 0, 0, 0, 0, 0, 0, 0, 0, 0, 0, 0, 0, 0, 0, 0, 0, 0, 0, 0, 0,\n",
       "         0, 0, 0],\n",
       "        [0, 0, 0, 0, 0, 1, 0, 0, 0, 0, 0, 0, 0, 0, 0, 0, 0, 0, 0, 0, 0, 0, 0, 0,\n",
       "         0, 0, 0],\n",
       "        [0, 0, 0, 0, 0, 0, 0, 0, 0, 0, 0, 0, 0, 1, 0, 0, 0, 0, 0, 0, 0, 0, 0, 0,\n",
       "         0, 0, 0],\n",
       "        [0, 0, 0, 0, 0, 0, 0, 0, 0, 0, 0, 0, 0, 1, 0, 0, 0, 0, 0, 0, 0, 0, 0, 0,\n",
       "         0, 0, 0],\n",
       "        [0, 1, 0, 0, 0, 0, 0, 0, 0, 0, 0, 0, 0, 0, 0, 0, 0, 0, 0, 0, 0, 0, 0, 0,\n",
       "         0, 0, 0]])"
      ]
     },
     "execution_count": 16,
     "metadata": {},
     "output_type": "execute_result"
    }
   ],
   "source": [
    "xenc"
   ]
  },
  {
   "cell_type": "code",
   "execution_count": 19,
   "metadata": {},
   "outputs": [
    {
     "data": {
      "text/plain": [
       "<matplotlib.image.AxesImage at 0x155ce0c3170>"
      ]
     },
     "execution_count": 19,
     "metadata": {},
     "output_type": "execute_result"
    },
    {
     "data": {
      "image/png": "[encoded data removed]",
      "text/plain": [
       "<Figure size 640x480 with 1 Axes>"
      ]
     },
     "metadata": {},
     "output_type": "display_data"
    }
   ],
   "source": [
    "plt.imshow(xenc)"
   ]
  },
  {
   "cell_type": "code",
   "execution_count": 41,
   "metadata": {},
   "outputs": [
    {
     "data": {
      "text/plain": [
       "tensor([[-2.1682e+00,  3.0043e-01, -6.7169e-01,  1.6445e+00, -2.6671e+00,\n",
       "          4.6089e-02, -2.9483e-01, -1.3571e+00, -1.5053e-01, -1.2700e-01,\n",
       "         -8.1842e-01,  1.2063e+00,  1.0046e+00, -8.0540e-01, -2.5065e-01,\n",
       "         -1.2354e+00,  3.1624e-02, -5.7383e-02, -8.8415e-01,  1.1169e-01,\n",
       "         -3.5052e-01,  3.9823e-01,  1.7260e-01, -3.0130e-01, -6.5483e-01,\n",
       "         -1.8462e+00, -3.2357e-01],\n",
       "        [-8.7041e-01,  5.5337e-01,  2.4440e-01,  4.0379e-01,  3.2220e-01,\n",
       "          3.9463e-01, -2.4915e-01, -1.5627e+00,  1.3123e+00, -6.5781e-01,\n",
       "          8.9525e-01,  5.3981e-01,  1.1770e-01, -9.4889e-01, -6.7082e-01,\n",
       "         -2.9581e-01,  5.2513e-01,  2.8803e-01,  2.3462e-01,  5.1168e-01,\n",
       "          8.2624e-01,  1.1143e+00, -6.3670e-02,  1.0796e+00,  1.3483e-01,\n",
       "          1.1475e+00, -1.8314e+00],\n",
       "        [-1.2865e+00,  8.9343e-01,  1.4218e-01, -8.2844e-01, -9.9270e-02,\n",
       "          9.9463e-01, -5.0427e-01, -5.6503e-01,  5.9761e-01, -1.2194e+00,\n",
       "          1.2671e+00,  1.5457e+00,  4.6873e-01, -4.2579e-01, -2.2507e+00,\n",
       "          7.4438e-02,  1.6345e+00, -1.2078e+00,  5.3166e-01, -2.1171e-01,\n",
       "          8.8046e-02,  7.6618e-01, -1.0070e+00, -9.3255e-01,  1.0980e-01,\n",
       "          1.7756e+00, -4.4372e-01],\n",
       "        [-1.2865e+00,  8.9343e-01,  1.4218e-01, -8.2844e-01, -9.9270e-02,\n",
       "          9.9463e-01, -5.0427e-01, -5.6503e-01,  5.9761e-01, -1.2194e+00,\n",
       "          1.2671e+00,  1.5457e+00,  4.6873e-01, -4.2579e-01, -2.2507e+00,\n",
       "          7.4438e-02,  1.6345e+00, -1.2078e+00,  5.3166e-01, -2.1171e-01,\n",
       "          8.8046e-02,  7.6618e-01, -1.0070e+00, -9.3255e-01,  1.0980e-01,\n",
       "          1.7756e+00, -4.4372e-01],\n",
       "        [-4.8546e-01, -1.0306e+00, -2.2611e+00, -4.2048e-01, -6.7370e-01,\n",
       "         -1.5608e-01, -8.6872e-01,  2.0872e+00, -7.0404e-01, -2.5660e-01,\n",
       "         -2.8257e-01, -3.4691e-01, -2.3632e-01, -7.3707e-01,  3.7351e-03,\n",
       "          5.9678e-01, -1.3131e+00, -1.9196e+00,  7.0918e-01,  1.5439e-03,\n",
       "         -1.4474e+00,  7.2890e-01,  9.4917e-01,  1.0019e+00, -3.1758e-01,\n",
       "          1.4238e+00,  3.5685e-01]])"
      ]
     },
     "execution_count": 41,
     "metadata": {},
     "output_type": "execute_result"
    }
   ],
   "source": [
    "w = torch.randn((27,27))\n",
    "(xenc @ w)"
   ]
  },
  {
   "cell_type": "code",
   "execution_count": 44,
   "metadata": {},
   "outputs": [],
   "source": [
    "logits = (xenc @ w) #log-counts\n",
    "counts = logits.exp() #equivalent N\n",
    "probs = counts / counts.sum(1, keepdim=True)"
   ]
  },
  {
   "cell_type": "code",
   "execution_count": 46,
   "metadata": {},
   "outputs": [
    {
     "data": {
      "text/plain": [
       "tensor([ 0,  5, 13, 13,  1])"
      ]
     },
     "execution_count": 46,
     "metadata": {},
     "output_type": "execute_result"
    }
   ],
   "source": [
    "xs"
   ]
  },
  {
   "cell_type": "code",
   "execution_count": 47,
   "metadata": {},
   "outputs": [
    {
     "data": {
      "text/plain": [
       "tensor([ 5, 13, 13,  1,  0])"
      ]
     },
     "execution_count": 47,
     "metadata": {},
     "output_type": "execute_result"
    }
   ],
   "source": [
    "ys"
   ]
  },
  {
   "cell_type": "code",
   "execution_count": null,
   "metadata": {},
   "outputs": [],
   "source": [
    "# Initializes the weights of 27 neurons randomly, each receives 27 inputs\n",
    "# 27 inputs -> 27 neurons\n",
    "g = torch.Generator().manual_seed(2147483647)\n",
    "w = torch.randn((27, 27), generator=g)"
   ]
  },
  {
   "cell_type": "code",
   "execution_count": 49,
   "metadata": {},
   "outputs": [],
   "source": [
    "xenc = F.one_hot(xs, num_classes=27).float()\n",
    "logits = xenc @ w\n",
    "counts = logits.exp()\n",
    "probs = counts / counts.sum(1, keepdim=True)"
   ]
  },
  {
   "cell_type": "code",
   "execution_count": null,
   "metadata": {},
   "outputs": [],
   "source": []
  }
 ],
 "metadata": {
  "kernelspec": {
   "display_name": "Python 3",
   "language": "python",
   "name": "python3"
  },
  "language_info": {
   "codemirror_mode": {
    "name": "ipython",
    "version": 3
   },
   "file_extension": ".py",
   "mimetype": "text/x-python",
   "name": "python",
   "nbconvert_exporter": "python",
   "pygments_lexer": "ipython3",
   "version": "3.12.7"
  }
 },
 "nbformat": 4,
 "nbformat_minor": 2
}
